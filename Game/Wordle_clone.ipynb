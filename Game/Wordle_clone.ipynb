{
 "cells": [
  {
   "cell_type": "code",
   "execution_count": null,
   "metadata": {},
   "outputs": [],
   "source": [
    "def game_instruction():"
   ]
  },
  {
   "cell_type": "code",
   "execution_count": 1,
   "metadata": {},
   "outputs": [
    {
     "name": "stdout",
     "output_type": "stream",
     "text": [
      "Wordle is a single player game\n",
      "A player has to guess a five letter hidden word\n",
      "You have six attempts\n",
      "Your Progress Guide \"✔❌❌✔➕\"\n",
      "\"✔\" Indicates that the letter at that position was guessed correctly\n",
      "\"➕\" indicates that the letter at that position is in the hidden word, but in a different position\n",
      "\"❌\" indicates that the letter at that position is wrong, and isn't in the hidden word   \n"
     ]
    }
   ],
   "source": [
    "print(\"\"\"Wordle is a single player game\n",
    "A player has to guess a five letter hidden word\n",
    "You have six attempts\n",
    "Your Progress Guide \"✔❌❌✔➕\"\n",
    "\"✔\" Indicates that the letter at that position was guessed correctly\n",
    "\"➕\" indicates that the letter at that position is in the hidden word, but in a different position\n",
    "\"❌\" indicates that the letter at that position is wrong, and isn't in the hidden word   \"\"\")"
   ]
  },
  {
   "cell_type": "code",
   "execution_count": 2,
   "metadata": {},
   "outputs": [],
   "source": [
    "def game_instruction():\n",
    "    print(\"\"\"Wordle is a single player game\n",
    "A player has to guess a five letter hidden word\n",
    "You have six attempts\n",
    "Your Progress Guide \"✔❌❌✔➕\"\n",
    "\"✔\" Indicates that the letter at that position was guessed correctly\n",
    "\"➕\" indicates that the letter at that position is in the hidden word, but in a different position\n",
    "\"❌\" indicates that the letter at that position is wrong, and isn't in the hidden word   \"\"\")\n"
   ]
  },
  {
   "cell_type": "code",
   "execution_count": 6,
   "metadata": {},
   "outputs": [
    {
     "name": "stdout",
     "output_type": "stream",
     "text": [
      "Wordle is a single player game\n",
      "A player has to guess a five letter hidden word\n",
      "You have six attempts\n",
      "Your Progress Guide \"✔❌❌✔➕\"\n",
      "\"✔\" Indicates that the letter at that position was guessed correctly\n",
      "\"➕\" indicates that the letter at that position is in the hidden word, but in a different position\n",
      "\"❌\" indicates that the letter at that position is wrong, and isn't in the hidden word   \n"
     ]
    }
   ],
   "source": [
    "game_instruction()"
   ]
  },
  {
   "cell_type": "code",
   "execution_count": 7,
   "metadata": {},
   "outputs": [],
   "source": [
    "def check_word():\n",
    "  hidden_word = \"snail\"\n",
    "    attempt = 6\n",
    "  while attempt > 0:\n",
    "      guess = str(input(\"Guess the word: \"))\n",
    "    if guess == hidden_word:\n",
    "      print(\"You guessed the words correctly! WIN 🕺🕺🕺 \")\n",
    "      break"
   ]
  },
  {
   "cell_type": "markdown",
   "metadata": {},
   "source": [
    "# Instead of,\n",
    "print(\"you have\" + attempt + \" attempt(s) ,, \\n\") # '\\n' is used for new line\n",
    "\n",
    "# use this,\n",
    "print(f\"you have {attempt} attempt(s) ,, \\n\") # the variable to be printed is wrapped in curly braces"
   ]
  },
  {
   "cell_type": "code",
   "execution_count": null,
   "metadata": {},
   "outputs": [],
   "source": [
    "# Instead of,\n",
    "print(\"you have\" + attempt + \" attempt(s) ,, \\n\") # '\\n' is used for new line\n",
    "\n",
    "# use this,\n",
    "print(f\"you have {attempt} attempt(s) ,, \\n\") # the variable to be printed is wrapped in curly braces"
   ]
  },
  {
   "cell_type": "code",
   "execution_count": null,
   "metadata": {},
   "outputs": [],
   "source": [
    " else:\n",
    "      attempt = attempt - 1\n",
    "      print(f\"you have {attempt} attempt(s) ,, \\n \")\n",
    "     "
   ]
  },
  {
   "cell_type": "code",
   "execution_count": 11,
   "metadata": {},
   "outputs": [
    {
     "name": "stdout",
     "output_type": "stream",
     "text": [
      "1 - s\n",
      "2 - h\n",
      "3 - e\n",
      "4 - l\n",
      "5 - l\n"
     ]
    }
   ],
   "source": [
    "user_entry = str(input(\"spell 5 letter word: \"))\n",
    "default_value = \"shell\"\n",
    "for i, j in zip(user_entry, default_value):\n",
    "  print(i + \" - \" +  j)"
   ]
  },
  {
   "cell_type": "code",
   "execution_count": 12,
   "metadata": {},
   "outputs": [
    {
     "name": "stdout",
     "output_type": "stream",
     "text": [
      "Wordle is a single player game \n",
      "A player has to guess a five letter hidden word \n",
      "You have six attempts \n",
      "Your Progress Guide \"✔❌❌✔➕\"  \n",
      "\"✔\" Indicates that the letter at that position was guessed correctly \n",
      "\"➕\" indicates that the letter at that position is in the hidden word, but in a different position \n",
      "\"❌\" indicates that the letter at that position is wrong, and isn't in the hidden word   \n",
      "you have 5 attempt(s) ,, \n",
      " \n",
      " ❌ \n",
      " ❌ \n",
      " ❌ \n",
      " ❌ \n",
      "i ➕ \n",
      "you have 4 attempt(s) ,, \n",
      " \n",
      " ❌ \n",
      " ❌ \n",
      " ❌ \n",
      "you have 3 attempt(s) ,, \n",
      " \n",
      "s ✔ \n",
      " ❌ \n",
      " ❌ \n",
      "you have 2 attempt(s) ,, \n",
      " \n",
      "s ✔ \n",
      " ❌ \n",
      " ❌ \n",
      " ❌ \n",
      "i ➕ \n",
      "you have 1 attempt(s) ,, \n",
      " \n",
      " ❌ \n",
      " ❌ \n",
      " ❌ \n",
      " ❌ \n",
      " ❌ \n",
      "You guessed the words correctly! WIN 🕺🕺🕺 \n"
     ]
    }
   ],
   "source": [
    "def game_instruction():\n",
    "    print(\"\"\"Wordle is a single player game \n",
    "A player has to guess a five letter hidden word \n",
    "You have six attempts \n",
    "Your Progress Guide \"✔❌❌✔➕\"  \n",
    "\"✔\" Indicates that the letter at that position was guessed correctly \n",
    "\"➕\" indicates that the letter at that position is in the hidden word, but in a different position \n",
    "\"❌\" indicates that the letter at that position is wrong, and isn't in the hidden word   \"\"\")\n",
    "\n",
    "\n",
    "game_instruction()\n",
    "\n",
    "def check_word():\n",
    "  hidden_word = \"snail\"\n",
    "  attempt = 6\n",
    "  while attempt > 0:\n",
    "    guess = str(input(\"Guess the word: \"))\n",
    "    if guess == hidden_word:\n",
    "      print(\"You guessed the words correctly! WIN 🕺🕺🕺 \")\n",
    "      break\n",
    "    else:\n",
    "      attempt = attempt - 1\n",
    "      print(f\"you have {attempt} attempt(s) ,, \\n \")\n",
    "      for char, word in zip(hidden_word, guess):\n",
    "            if word in hidden_word and word in char:\n",
    "                print(word + \" ✔ \")\n",
    "\n",
    "            elif word in hidden_word:\n",
    "                print(word + \" ➕ \")\n",
    "            else:\n",
    "                print(\" ❌ \")\n",
    "      if attempt == 0:\n",
    "        print(\" Game over !!!! \")\n",
    "\n",
    "check_word()"
   ]
  }
 ],
 "metadata": {
  "interpreter": {
   "hash": "9781c75f8ebb8db568c34abc6fa56aff5b950f24b8cfd6fe8af6829c67f4ac57"
  },
  "kernelspec": {
   "display_name": "Python 3.10.2 64-bit",
   "language": "python",
   "name": "python3"
  },
  "language_info": {
   "codemirror_mode": {
    "name": "ipython",
    "version": 3
   },
   "file_extension": ".py",
   "mimetype": "text/x-python",
   "name": "python",
   "nbconvert_exporter": "python",
   "pygments_lexer": "ipython3",
   "version": "3.10.2"
  },
  "orig_nbformat": 4
 },
 "nbformat": 4,
 "nbformat_minor": 2
}
