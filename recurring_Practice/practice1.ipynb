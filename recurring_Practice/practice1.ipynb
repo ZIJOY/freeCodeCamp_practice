{
 "cells": [
  {
   "cell_type": "code",
   "execution_count": 32,
   "metadata": {},
   "outputs": [
    {
     "name": "stdout",
     "output_type": "stream",
     "text": [
      "Hello! World\n"
     ]
    }
   ],
   "source": [
    "print('Hello! World')"
   ]
  },
  {
   "cell_type": "code",
   "execution_count": 33,
   "metadata": {},
   "outputs": [
    {
     "name": "stdout",
     "output_type": "stream",
     "text": [
      "Hello, World!\n",
      "100\n",
      "10\n"
     ]
    }
   ],
   "source": [
    "print('Hello, World!')\n",
    "print(100)\n",
    "print(5 + 5)"
   ]
  },
  {
   "cell_type": "code",
   "execution_count": 34,
   "metadata": {},
   "outputs": [
    {
     "name": "stdout",
     "output_type": "stream",
     "text": [
      "Hello, world\n",
      "508\n",
      "108\n",
      "10\n"
     ]
    }
   ],
   "source": [
    "print('Hello, world')\n",
    "print(508)\n",
    "print(9+99)\n",
    "print(5+5)"
   ]
  },
  {
   "cell_type": "code",
   "execution_count": 35,
   "metadata": {},
   "outputs": [
    {
     "name": "stdout",
     "output_type": "stream",
     "text": [
      "Hello, World! | 100 | 10\n"
     ]
    }
   ],
   "source": [
    "print('Hello, World!', end=' | ')\n",
    "print(100, end=' | ')\n",
    "print(5 + 5)"
   ]
  },
  {
   "cell_type": "code",
   "execution_count": 36,
   "metadata": {},
   "outputs": [
    {
     "name": "stdout",
     "output_type": "stream",
     "text": [
      "My name is JOY\n"
     ]
    }
   ],
   "source": [
    "name = 'JOY'\n",
    "\n",
    "print('My name is ' + name)"
   ]
  },
  {
   "cell_type": "code",
   "execution_count": 37,
   "metadata": {},
   "outputs": [
    {
     "name": "stdout",
     "output_type": "stream",
     "text": [
      "My name is Joy\n"
     ]
    },
    {
     "ename": "TypeError",
     "evalue": "can only concatenate str (not \"int\") to str",
     "output_type": "error",
     "traceback": [
      "\u001b[1;31m---------------------------------------------------------------------------\u001b[0m",
      "\u001b[1;31mTypeError\u001b[0m                                 Traceback (most recent call last)",
      "\u001b[1;32mc:\\Users\\User\\Documents\\GitHub\\freeCodeCamp_practice\\recurring_Practice\\practice1.ipynb Cell 6'\u001b[0m in \u001b[0;36m<cell line: 5>\u001b[1;34m()\u001b[0m\n\u001b[0;32m      <a href='vscode-notebook-cell:/c%3A/Users/User/Documents/GitHub/freeCodeCamp_practice/recurring_Practice/practice1.ipynb#ch0000007?line=1'>2</a>\u001b[0m age \u001b[39m=\u001b[39m \u001b[39m30\u001b[39m\n\u001b[0;32m      <a href='vscode-notebook-cell:/c%3A/Users/User/Documents/GitHub/freeCodeCamp_practice/recurring_Practice/practice1.ipynb#ch0000007?line=3'>4</a>\u001b[0m \u001b[39mprint\u001b[39m(\u001b[39m'\u001b[39m\u001b[39mMy name is \u001b[39m\u001b[39m'\u001b[39m \u001b[39m+\u001b[39m name)\n\u001b[1;32m----> <a href='vscode-notebook-cell:/c%3A/Users/User/Documents/GitHub/freeCodeCamp_practice/recurring_Practice/practice1.ipynb#ch0000007?line=4'>5</a>\u001b[0m \u001b[39mprint\u001b[39m(\u001b[39m'\u001b[39;49m\u001b[39mI am \u001b[39;49m\u001b[39m'\u001b[39;49m \u001b[39m+\u001b[39;49m age \u001b[39m+\u001b[39m \u001b[39m'\u001b[39m\u001b[39myears old\u001b[39m\u001b[39m'\u001b[39m)\n",
      "\u001b[1;31mTypeError\u001b[0m: can only concatenate str (not \"int\") to str"
     ]
    }
   ],
   "source": [
    "name = 'Joy'\n",
    "age = 30\n",
    "\n",
    "print('My name is ' + name)\n",
    "print('I am ' + age + 'years old')"
   ]
  },
  {
   "cell_type": "markdown",
   "metadata": {},
   "source": [
    "# Better wy to embedded vribles in string"
   ]
  },
  {
   "cell_type": "code",
   "execution_count": null,
   "metadata": {},
   "outputs": [
    {
     "name": "stdout",
     "output_type": "stream",
     "text": [
      "My name is Farhan\n",
      "I am 27 years old\n"
     ]
    }
   ],
   "source": [
    "name = 'Farhan'\n",
    "age = 27\n",
    "\n",
    "print(f'My name is {name}')\n",
    "print(f'I am {age} years old')"
   ]
  },
  {
   "cell_type": "markdown",
   "metadata": {},
   "source": [
    "This f turns the strings into f-strings. These strings are evaluated at runtime, so inside a f-string, you can put any valid Python statement within curly braces. This makes embedding variables or even simple logic within strings very easy."
   ]
  },
  {
   "cell_type": "code",
   "execution_count": null,
   "metadata": {},
   "outputs": [
    {
     "name": "stdout",
     "output_type": "stream",
     "text": [
      "The holy book hs 114 Sur\n"
     ]
    }
   ],
   "source": [
    "urn = 114\n",
    "print(f'The holy book hs {urn} Sur')"
   ]
  },
  {
   "cell_type": "code",
   "execution_count": null,
   "metadata": {},
   "outputs": [
    {
     "name": "stdout",
     "output_type": "stream",
     "text": [
      "10\n"
     ]
    }
   ],
   "source": [
    "a = 'this is a string'\n",
    "\n",
    "a = 10\n",
    "\n",
    "print(a)"
   ]
  },
  {
   "cell_type": "code",
   "execution_count": null,
   "metadata": {},
   "outputs": [],
   "source": [
    "name = 'Farhan'\n",
    "\n",
    "# F -> 0\n",
    "# a -> 1\n",
    "# r -> 2\n",
    "# h -> 3\n",
    "# a -> 4\n",
    "# n -> 5"
   ]
  },
  {
   "cell_type": "code",
   "execution_count": null,
   "metadata": {},
   "outputs": [
    {
     "name": "stdout",
     "output_type": "stream",
     "text": [
      "F\n",
      "a\n",
      "r\n",
      "h\n",
      "a\n",
      "n\n"
     ]
    }
   ],
   "source": [
    "name = 'Farhan'\n",
    "\n",
    "print(name[0])\n",
    "print(name[1])\n",
    "print(name[2])\n",
    "print(name[3])\n",
    "print(name[4])\n",
    "print(name[5])"
   ]
  },
  {
   "cell_type": "code",
   "execution_count": null,
   "metadata": {},
   "outputs": [
    {
     "name": "stdout",
     "output_type": "stream",
     "text": [
      "Far\n",
      "Farh\n"
     ]
    }
   ],
   "source": [
    "name = 'Farhan'\n",
    "\n",
    "print(name[0:3])\n",
    "print(name[0:4])"
   ]
  },
  {
   "cell_type": "code",
   "execution_count": null,
   "metadata": {},
   "outputs": [
    {
     "name": "stdout",
     "output_type": "stream",
     "text": [
      "6\n"
     ]
    }
   ],
   "source": [
    "name = 'Farhan'\n",
    "\n",
    "print(len(name))"
   ]
  },
  {
   "cell_type": "code",
   "execution_count": null,
   "metadata": {},
   "outputs": [
    {
     "name": "stdout",
     "output_type": "stream",
     "text": [
      "Python is awesome\n"
     ]
    }
   ],
   "source": [
    "print('python is awesome'.capitalize())"
   ]
  },
  {
   "cell_type": "code",
   "execution_count": null,
   "metadata": {},
   "outputs": [
    {
     "name": "stdout",
     "output_type": "stream",
     "text": [
      "PYTHON IS AWESOME\n"
     ]
    }
   ],
   "source": [
    "print('python is awesome'.upper())"
   ]
  },
  {
   "cell_type": "code",
   "execution_count": null,
   "metadata": {},
   "outputs": [
    {
     "name": "stdout",
     "output_type": "stream",
     "text": [
      "python is awesome\n"
     ]
    }
   ],
   "source": [
    "print('PYTHON IS AWESOME'.lower())"
   ]
  },
  {
   "cell_type": "code",
   "execution_count": null,
   "metadata": {},
   "outputs": [
    {
     "name": "stdout",
     "output_type": "stream",
     "text": [
      "False\n",
      "True\n"
     ]
    }
   ],
   "source": [
    "print('PYTHON IS AWESOME'.islower())\n",
    "print('PYTHON IS AWESOME'.isupper())"
   ]
  },
  {
   "cell_type": "code",
   "execution_count": 38,
   "metadata": {},
   "outputs": [
    {
     "name": "stdout",
     "output_type": "stream",
     "text": [
      "freeCodeCamp is awesome\n"
     ]
    }
   ],
   "source": [
    "print('python is awesome'.replace('python', 'freeCodeCamp'))"
   ]
  },
  {
   "cell_type": "code",
   "execution_count": 39,
   "metadata": {},
   "outputs": [
    {
     "name": "stdout",
     "output_type": "stream",
     "text": [
      "['python', 'is', 'awesome']\n"
     ]
    }
   ],
   "source": [
    "print('python is awesome'.split(' '))"
   ]
  },
  {
   "cell_type": "code",
   "execution_count": 40,
   "metadata": {},
   "outputs": [
    {
     "name": "stdout",
     "output_type": "stream",
     "text": [
      "python is awesome\n"
     ]
    }
   ],
   "source": [
    "print(' '.join(['python', 'is', 'awesome']))"
   ]
  },
  {
   "cell_type": "code",
   "execution_count": 41,
   "metadata": {},
   "outputs": [
    {
     "name": "stdout",
     "output_type": "stream",
     "text": [
      "15\n",
      "5\n",
      "50\n",
      "2.0\n"
     ]
    }
   ],
   "source": [
    "a = 10\n",
    "b = 5\n",
    "\n",
    "print(a+b)\n",
    "print(a-b)\n",
    "print(a*b)\n",
    "print(a/b)"
   ]
  },
  {
   "cell_type": "code",
   "execution_count": 42,
   "metadata": {},
   "outputs": [
    {
     "name": "stdout",
     "output_type": "stream",
     "text": [
      "2\n"
     ]
    }
   ],
   "source": [
    "a = 10\n",
    "b = 5\n",
    "\n",
    "print(a//b)"
   ]
  },
  {
   "cell_type": "code",
   "execution_count": 43,
   "metadata": {},
   "outputs": [
    {
     "name": "stdout",
     "output_type": "stream",
     "text": [
      "Your name is Joy\n"
     ]
    }
   ],
   "source": [
    "name = input('What is your name? ')\n",
    "\n",
    "print(f'Your name is {name}')"
   ]
  },
  {
   "cell_type": "code",
   "execution_count": 46,
   "metadata": {},
   "outputs": [
    {
     "name": "stdout",
     "output_type": "stream",
     "text": [
      "a - b = -2.0\n"
     ]
    }
   ],
   "source": [
    "a = float(input('First: '))\n",
    "b = float(input('Second: '))\n",
    "op = input('Operation (sum/sub/mul/div): ')\n",
    "\n",
    "if op == 'sum':\n",
    "    print(f'a + b = {a+b}')\n",
    "elif op == 'sub':\n",
    "    print(f'a - b = {a-b}')\n",
    "elif op == 'mul':\n",
    "    print(f'a * b = {a*b}')\n",
    "elif op == 'div':\n",
    "    print(f'a / b = {a/b}')\n",
    "else:\n",
    "    print('Invalid Operation!')"
   ]
  },
  {
   "cell_type": "code",
   "execution_count": 47,
   "metadata": {},
   "outputs": [
    {
     "name": "stdout",
     "output_type": "stream",
     "text": [
      "a / b = 1.2\n"
     ]
    }
   ],
   "source": [
    "a = float(input('First: '))\n",
    "b = float(input('Second: '))\n",
    "op = input('Operation (sum/sub/mul/div): ')\n",
    "\n",
    "match op:\n",
    "    case 'sum':\n",
    "        print(f'a + b = {a+b}')\n",
    "    case 'sub':\n",
    "        print(f'a - b = {a-b}')\n",
    "    case 'mul':\n",
    "        print(f'a * b = {a*b}')\n",
    "    case 'div':\n",
    "        print(f'a / b = {a/b}')\n",
    "    case _:\n",
    "        print('Invalid Operation!')\n"
   ]
  },
  {
   "cell_type": "markdown",
   "metadata": {},
   "source": [
    "# List"
   ]
  },
  {
   "cell_type": "code",
   "execution_count": 48,
   "metadata": {},
   "outputs": [
    {
     "name": "stdout",
     "output_type": "stream",
     "text": [
      "['a', 'e', 'i', 'o', 'u']\n"
     ]
    }
   ],
   "source": [
    "vowels = ['a', 'e', 'i', 'o', 'u']\n",
    "\n",
    "print(vowels)"
   ]
  },
  {
   "cell_type": "code",
   "execution_count": 50,
   "metadata": {},
   "outputs": [
    {
     "name": "stdout",
     "output_type": "stream",
     "text": [
      "a\n",
      "e\n",
      "i\n",
      "o\n",
      "u\n"
     ]
    }
   ],
   "source": [
    "vowels = ['a', 'e', 'i', 'o', 'u']\n",
    "\n",
    "print(vowels[0])\n",
    "print(vowels[1])\n",
    "print(vowels[2])\n",
    "print(vowels[3])\n",
    "print(vowels[4])"
   ]
  },
  {
   "cell_type": "code",
   "execution_count": 58,
   "metadata": {},
   "outputs": [
    {
     "name": "stdout",
     "output_type": "stream",
     "text": [
      "['a', 'e', 'i', 'o', 'u']\n"
     ]
    }
   ],
   "source": [
    "vowels = ['a', 'e']\n",
    "\n",
    "vowels.append('i')\n",
    "vowels.extend(['o', 'u'])\n",
    "\n",
    "print(vowels)"
   ]
  },
  {
   "cell_type": "markdown",
   "metadata": {},
   "source": [
    "# The append() method appends a new item to the list and the extend() method adds multiple items:"
   ]
  },
  {
   "cell_type": "code",
   "execution_count": 59,
   "metadata": {},
   "outputs": [
    {
     "name": "stdout",
     "output_type": "stream",
     "text": [
      "u\n",
      "['a', 'e', 'i', 'o']\n"
     ]
    }
   ],
   "source": [
    "vowels = ['a', 'e', 'i', 'o', 'u']\n",
    "\n",
    "popped_item = vowels.pop()\n",
    "\n",
    "print(popped_item)\n",
    "print(vowels)"
   ]
  },
  {
   "cell_type": "code",
   "execution_count": 60,
   "metadata": {},
   "outputs": [
    {
     "name": "stdout",
     "output_type": "stream",
     "text": [
      "['a', 'i', 'o', 'u']\n"
     ]
    }
   ],
   "source": [
    "vowels = ['a', 'e', 'i', 'o', 'u']\n",
    "\n",
    "vowels.remove('e')\n",
    "\n",
    "print(vowels)"
   ]
  }
 ],
 "metadata": {
  "interpreter": {
   "hash": "9781c75f8ebb8db568c34abc6fa56aff5b950f24b8cfd6fe8af6829c67f4ac57"
  },
  "kernelspec": {
   "display_name": "Python 3.10.2 64-bit",
   "language": "python",
   "name": "python3"
  },
  "language_info": {
   "codemirror_mode": {
    "name": "ipython",
    "version": 3
   },
   "file_extension": ".py",
   "mimetype": "text/x-python",
   "name": "python",
   "nbconvert_exporter": "python",
   "pygments_lexer": "ipython3",
   "version": "3.10.2"
  },
  "orig_nbformat": 4
 },
 "nbformat": 4,
 "nbformat_minor": 2
}
